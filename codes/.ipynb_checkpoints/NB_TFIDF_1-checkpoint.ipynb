{
 "cells": [
  {
   "cell_type": "markdown",
   "metadata": {},
   "source": [
    "# Importing necessary packages"
   ]
  },
  {
   "cell_type": "code",
   "execution_count": 14,
   "metadata": {},
   "outputs": [],
   "source": [
    "import numpy as np # linear algebra\n",
    "import pandas as pd # data processing, CSV file I/O (e.g. pd.read_csv)\n",
    "from sklearn.model_selection import train_test_split\n",
    "from sklearn.feature_extraction.text import CountVectorizer\n",
    "#import matplotlib.pyplot as plt\n",
    "from sklearn.naive_bayes import MultinomialNB\n",
    "from sklearn import metrics\n",
    "from sklearn.feature_extraction.text import TfidfTransformer\n",
    "from unidecode import unidecode\n",
    "import re\n",
    "from sklearn.pipeline import Pipeline\n",
    "import pickle"
   ]
  },
  {
   "cell_type": "markdown",
   "metadata": {},
   "source": [
    "### Cleaning Function"
   ]
  },
  {
   "cell_type": "code",
   "execution_count": 3,
   "metadata": {},
   "outputs": [],
   "source": [
    "def clean_text(x):\n",
    "    x_ascii = unidecode(x)\n",
    "    x_clean = special_character_removal.sub('',x_ascii)\n",
    "    return x_clean"
   ]
  },
  {
   "cell_type": "markdown",
   "metadata": {},
   "source": [
    "# Loading training data"
   ]
  },
  {
   "cell_type": "code",
   "execution_count": 4,
   "metadata": {},
   "outputs": [],
   "source": [
    "train_df= pd.read_csv('train.csv')"
   ]
  },
  {
   "cell_type": "markdown",
   "metadata": {},
   "source": [
    "# Preprocessing and data cleaning "
   ]
  },
  {
   "cell_type": "code",
   "execution_count": 5,
   "metadata": {},
   "outputs": [],
   "source": [
    "data=train_df.loc[:,[\"comment_text\",\"toxic\"]]\n",
    "special_character_removal = re.compile(r'[^A-Za-z\\.\\-\\?\\!\\,\\#\\@\\% ]',re.IGNORECASE)\n",
    "data['clean_text'] = data['comment_text'].apply(lambda x: clean_text(str(x)))\n",
    "data['clean_text']= data['clean_text'].fillna(\"something\")"
   ]
  },
  {
   "cell_type": "markdown",
   "metadata": {},
   "source": [
    "# Splitting in training and testing data"
   ]
  },
  {
   "cell_type": "code",
   "execution_count": 6,
   "metadata": {},
   "outputs": [
    {
     "data": {
      "text/plain": [
       "((106912,), (106912,), (52659,), (52659,))"
      ]
     },
     "execution_count": 6,
     "metadata": {},
     "output_type": "execute_result"
    }
   ],
   "source": [
    "x=data.iloc[:,2]\n",
    "y=data.iloc[:,1]\n",
    "\n",
    "x_train, x_test, y_train, y_test = train_test_split(x.values, y.values, test_size=0.33, random_state=42)\n",
    "\n",
    "x_train.shape, y_train.shape, x_test.shape, y_test.shape"
   ]
  },
  {
   "cell_type": "markdown",
   "metadata": {},
   "source": [
    "# Features extraction and model training"
   ]
  },
  {
   "cell_type": "code",
   "execution_count": 8,
   "metadata": {},
   "outputs": [
    {
     "data": {
      "text/plain": [
       "Pipeline(memory=None,\n",
       "         steps=[('vect',\n",
       "                 CountVectorizer(analyzer='word', binary=False,\n",
       "                                 decode_error='strict',\n",
       "                                 dtype=<class 'numpy.int64'>, encoding='utf-8',\n",
       "                                 input='content', lowercase=True, max_df=1.0,\n",
       "                                 max_features=None, min_df=1,\n",
       "                                 ngram_range=(1, 1), preprocessor=None,\n",
       "                                 stop_words=None, strip_accents=None,\n",
       "                                 token_pattern='(?u)\\\\b\\\\w\\\\w+\\\\b',\n",
       "                                 tokenizer=None, vocabulary=None)),\n",
       "                ('tfidf',\n",
       "                 TfidfTransformer(norm='l2', smooth_idf=True,\n",
       "                                  sublinear_tf=False, use_idf=True)),\n",
       "                ('clf',\n",
       "                 MultinomialNB(alpha=1.0, class_prior=None, fit_prior=True))],\n",
       "         verbose=False)"
      ]
     },
     "execution_count": 8,
     "metadata": {},
     "output_type": "execute_result"
    }
   ],
   "source": [
    "text_clf = Pipeline([('vect', CountVectorizer()),('tfidf', TfidfTransformer()), ('clf', MultinomialNB()), ])\n",
    "text_clf.fit(x_train, y_train)"
   ]
  },
  {
   "cell_type": "markdown",
   "metadata": {},
   "source": [
    "# Saving trained model"
   ]
  },
  {
   "cell_type": "code",
   "execution_count": 9,
   "metadata": {},
   "outputs": [],
   "source": [
    "# save the model to disk\n",
    "import pickle\n",
    "filename = 'nb_tfidf.sav'\n",
    "pickle.dump(text_clf, open(filename, 'wb'))"
   ]
  },
  {
   "cell_type": "markdown",
   "metadata": {},
   "source": [
    "# Results on testing data"
   ]
  },
  {
   "cell_type": "code",
   "execution_count": 10,
   "metadata": {},
   "outputs": [
    {
     "name": "stdout",
     "output_type": "stream",
     "text": [
      "Score using TFIDF is:  0.9157978693100894\n",
      "[[47571     5]\n",
      " [ 4429   654]]\n"
     ]
    }
   ],
   "source": [
    "pred = text_clf.predict(x_test)\n",
    "\n",
    "# Calculate the accuracy score: score\n",
    "score = metrics.accuracy_score(y_test, pred)\n",
    "print ('Score using TFIDF is: ',score)\n",
    "    # Calculate the confusion matrix: cm\n",
    "cm = metrics.confusion_matrix(y_test, pred)\n",
    "print(cm)"
   ]
  },
  {
   "cell_type": "markdown",
   "metadata": {},
   "source": [
    "# New data"
   ]
  },
  {
   "cell_type": "markdown",
   "metadata": {},
   "source": [
    "#### This will only be used for new data. This part is not needed for training the model"
   ]
  },
  {
   "cell_type": "code",
   "execution_count": 12,
   "metadata": {},
   "outputs": [],
   "source": [
    "loaded_model = pickle.load(open('nb_tfidf.sav', 'rb'))"
   ]
  },
  {
   "cell_type": "code",
   "execution_count": 13,
   "metadata": {},
   "outputs": [],
   "source": [
    "new_data= pd.read_csv('test.csv')\n",
    "new_data=new_data.iloc[:10000,:]\n",
    "\n",
    "new_data['clean_text'] = new_data['comment_text'].apply(lambda x: clean_text(str(x)))\n",
    "\n",
    "new_data['clean_text']= new_data['clean_text'].fillna(\"something\")\n",
    "new_data=new_data.clean_text.values\n",
    "\n",
    "predicted_new_data = text_clf.predict(new_data)\n"
   ]
  },
  {
   "cell_type": "code",
   "execution_count": 16,
   "metadata": {},
   "outputs": [
    {
     "name": "stdout",
     "output_type": "stream",
     "text": [
      "59\n",
      "70\n",
      "126\n",
      "136\n",
      "175\n",
      "193\n",
      "211\n",
      "215\n",
      "256\n",
      "309\n",
      "332\n",
      "339\n",
      "349\n",
      "419\n",
      "481\n",
      "491\n",
      "499\n",
      "544\n",
      "648\n",
      "698\n",
      "751\n",
      "786\n",
      "800\n",
      "803\n",
      "812\n",
      "887\n",
      "933\n",
      "975\n",
      "1012\n",
      "1028\n",
      "1030\n",
      "1043\n",
      "1107\n",
      "1142\n",
      "1153\n",
      "1176\n",
      "1242\n",
      "1270\n",
      "1284\n",
      "1345\n",
      "1347\n",
      "1348\n",
      "1365\n",
      "1367\n",
      "1394\n",
      "1407\n",
      "1415\n",
      "1417\n",
      "1436\n",
      "1446\n",
      "1521\n",
      "1527\n",
      "1555\n",
      "1585\n",
      "1640\n",
      "1703\n",
      "1760\n",
      "1797\n",
      "1841\n",
      "1861\n",
      "1906\n",
      "1918\n",
      "1938\n",
      "1958\n",
      "1984\n",
      "2062\n",
      "2085\n",
      "2099\n",
      "2111\n",
      "2176\n",
      "2179\n",
      "2182\n",
      "2374\n",
      "2385\n",
      "2408\n",
      "2412\n",
      "2467\n",
      "2468\n",
      "2502\n",
      "2530\n",
      "2592\n",
      "2723\n",
      "2727\n",
      "2784\n",
      "2837\n",
      "2858\n",
      "2880\n",
      "2986\n",
      "2993\n",
      "2997\n",
      "3086\n",
      "3129\n",
      "3151\n",
      "3355\n",
      "3377\n",
      "3416\n",
      "3433\n",
      "3455\n",
      "3475\n",
      "3489\n",
      "3520\n",
      "3622\n",
      "3664\n",
      "3681\n",
      "3706\n",
      "3747\n",
      "3786\n",
      "3884\n",
      "3903\n",
      "3908\n",
      "3910\n",
      "3983\n",
      "4033\n",
      "4116\n",
      "4145\n",
      "4193\n",
      "4230\n",
      "4378\n",
      "4407\n",
      "4411\n",
      "4442\n",
      "4565\n",
      "4578\n",
      "4585\n",
      "4720\n",
      "4791\n",
      "4803\n",
      "4819\n",
      "4930\n",
      "4954\n",
      "4966\n",
      "4967\n",
      "4972\n",
      "4994\n",
      "5014\n",
      "5015\n",
      "5075\n",
      "5081\n",
      "5083\n",
      "5086\n",
      "5161\n",
      "5218\n",
      "5223\n",
      "5245\n",
      "5267\n",
      "5323\n",
      "5405\n",
      "5406\n",
      "5472\n",
      "5477\n",
      "5560\n",
      "5641\n",
      "5692\n",
      "5693\n",
      "5706\n",
      "5775\n",
      "5786\n",
      "5789\n",
      "5803\n",
      "5825\n",
      "5858\n",
      "5872\n",
      "5919\n",
      "5932\n",
      "5947\n",
      "6007\n",
      "6049\n",
      "6080\n",
      "6189\n",
      "6217\n",
      "6326\n",
      "6449\n",
      "6458\n",
      "6524\n",
      "6540\n",
      "6548\n",
      "6567\n",
      "6571\n",
      "6587\n",
      "6631\n",
      "6649\n",
      "6653\n",
      "6677\n",
      "6728\n",
      "6756\n",
      "6792\n",
      "6806\n",
      "6845\n",
      "6866\n",
      "6882\n",
      "6898\n",
      "6903\n",
      "6908\n",
      "7031\n",
      "7118\n",
      "7133\n",
      "7246\n",
      "7276\n",
      "7288\n",
      "7337\n",
      "7339\n",
      "7343\n",
      "7350\n",
      "7378\n",
      "7422\n",
      "7473\n",
      "7548\n",
      "7570\n",
      "7615\n",
      "7636\n",
      "7657\n",
      "7668\n",
      "7678\n",
      "7686\n",
      "7699\n",
      "7702\n",
      "7716\n",
      "7719\n",
      "7761\n",
      "7772\n",
      "7854\n",
      "7917\n",
      "7942\n",
      "8003\n",
      "8035\n",
      "8044\n",
      "8117\n",
      "8165\n",
      "8171\n",
      "8178\n",
      "8218\n",
      "8226\n",
      "8235\n",
      "8248\n",
      "8259\n",
      "8267\n",
      "8290\n",
      "8415\n",
      "8430\n",
      "8441\n",
      "8460\n",
      "8470\n",
      "8512\n",
      "8526\n",
      "8559\n",
      "8561\n",
      "8647\n",
      "8665\n",
      "8739\n",
      "8768\n",
      "8780\n",
      "8799\n",
      "8987\n",
      "9022\n",
      "9030\n",
      "9049\n",
      "9051\n",
      "9063\n",
      "9090\n",
      "9123\n",
      "9164\n",
      "9191\n",
      "9208\n",
      "9223\n",
      "9323\n",
      "9374\n",
      "9397\n",
      "9406\n",
      "9637\n",
      "9662\n",
      "9746\n",
      "9769\n",
      "9878\n",
      "9895\n"
     ]
    }
   ],
   "source": [
    "h_detected=[]\n",
    "for i in range (0,len(predicted_new_data)):\n",
    "    if predicted_new_data[i]==1:\n",
    "        print (i)\n",
    "        h_detected.append(new_data[i])"
   ]
  },
  {
   "cell_type": "code",
   "execution_count": null,
   "metadata": {},
   "outputs": [],
   "source": []
  }
 ],
 "metadata": {
  "kernelspec": {
   "display_name": "Python 3",
   "language": "python",
   "name": "python3"
  },
  "language_info": {
   "codemirror_mode": {
    "name": "ipython",
    "version": 3
   },
   "file_extension": ".py",
   "mimetype": "text/x-python",
   "name": "python",
   "nbconvert_exporter": "python",
   "pygments_lexer": "ipython3",
   "version": "3.6.8"
  }
 },
 "nbformat": 4,
 "nbformat_minor": 2
}
